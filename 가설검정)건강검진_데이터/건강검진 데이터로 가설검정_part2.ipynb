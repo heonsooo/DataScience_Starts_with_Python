{
 "cells": [
  {
   "cell_type": "markdown",
   "metadata": {},
   "source": [
    "# 1. 음주 여부에 따라 건강검진 수치 차이가 있을까?"
   ]
  },
  {
   "cell_type": "markdown",
   "metadata": {},
   "source": [
    "# 2. 신장과 허리둘레의 크기는 체중과 상관관계가 있을까?\n",
    "- 분석을 통해 가설 검정"
   ]
  },
  {
   "cell_type": "markdown",
   "metadata": {},
   "source": [
    "# 3. 라이브러리 로드\n",
    "- 분석에 사용할 pandas\n",
    "- 수치계산에 사용할 numpy\n",
    "- 시각화에 사용할 seaborn\n",
    "\n",
    "\n",
    "#### 구 버전의 주피터 노트북에서는 %matplotlib inline 설정 해야함"
   ]
  },
  {
   "cell_type": "code",
   "execution_count": 1,
   "metadata": {},
   "outputs": [],
   "source": [
    "import pandas as pd\n",
    "import numpy as np\n",
    "import seaborn as sns\n",
    "import matplotlib.pyplot as plt"
   ]
  },
  {
   "cell_type": "markdown",
   "metadata": {},
   "source": [
    "# 4. 한글 폰트 설정"
   ]
  },
  {
   "cell_type": "code",
   "execution_count": 2,
   "metadata": {},
   "outputs": [],
   "source": [
    "# 그래프에서 글자 깨짐 방지 위한 한글 폰트 설정\n",
    "plt.rc('font', family='Malgun Gothic')\n",
    "\n",
    "# 마이너스 폰트 깨지는 문제에 대한 대처\n",
    "plt.rc('axes', unicode_minus=False)\n",
    "\n",
    "# 레티나 설정을통해 글씨를 더 선명하게 만들고, 폰트 주변 흐릿한 효과 방지\n",
    "%config InlineBackend.figure_format = 'retina'"
   ]
  },
  {
   "cell_type": "markdown",
   "metadata": {},
   "source": [
    "# 5. 데이터 불러오기\n",
    "- 국민 건강 보험 공단_ 건강 검진정보 csv파일\n",
    "- url : https://www.data.go.kr/data/15007122/fileData.do\n",
    "- 소개: 건강검진정보란 국민건강보험의 직장가입자와 40세 이상의 피부양자, 세대주인 지역가입자와 40세 이상의 지역가입자의 일반건강검진 결과와 이들 일반건강검진 대상자 중에 만40세와 만66세에 도달한 이들이 받게 되는 생애전환기건강진단 수검이력이 있는 각 연도별 수진자 100만 명에 대한 기본정보(성, 연령대, 시도코드 등)와 검진내역(신장, 체중, 총콜레스테롤, 혈색소 등)으로 구성된 개방데이터입니다."
   ]
  },
  {
   "cell_type": "code",
   "execution_count": 3,
   "metadata": {},
   "outputs": [
    {
     "data": {
      "text/plain": [
       "(1000000, 34)"
      ]
     },
     "execution_count": 3,
     "metadata": {},
     "output_type": "execute_result"
    }
   ],
   "source": [
    "# 다운로드 받은 파일을 판다스의 read_csv를 통해 읽어오기, encoding = cp949 (한글)\n",
    "# 파일을 읽어온 후 shape로 행과 열의 수를 출력\n",
    "data = pd.read_csv('data/국민건강보험공단_건강검진정보_20191231.csv', encoding='cp949')\n",
    "data.shape"
   ]
  },
  {
   "cell_type": "markdown",
   "metadata": {},
   "source": [
    "# 5.1 데이터 미리보기"
   ]
  },
  {
   "cell_type": "code",
   "execution_count": 4,
   "metadata": {},
   "outputs": [
    {
     "data": {
      "text/html": [
       "<div>\n",
       "<style scoped>\n",
       "    .dataframe tbody tr th:only-of-type {\n",
       "        vertical-align: middle;\n",
       "    }\n",
       "\n",
       "    .dataframe tbody tr th {\n",
       "        vertical-align: top;\n",
       "    }\n",
       "\n",
       "    .dataframe thead th {\n",
       "        text-align: right;\n",
       "    }\n",
       "</style>\n",
       "<table border=\"1\" class=\"dataframe\">\n",
       "  <thead>\n",
       "    <tr style=\"text-align: right;\">\n",
       "      <th></th>\n",
       "      <th>기준년도</th>\n",
       "      <th>가입자 일련번호</th>\n",
       "      <th>시도코드</th>\n",
       "      <th>성별코드</th>\n",
       "      <th>연령대 코드(5세단위)</th>\n",
       "      <th>신장(5Cm단위)</th>\n",
       "      <th>체중(5Kg 단위)</th>\n",
       "      <th>허리둘레</th>\n",
       "      <th>시력(좌)</th>\n",
       "      <th>시력(우)</th>\n",
       "      <th>...</th>\n",
       "      <th>감마 지티피</th>\n",
       "      <th>흡연상태</th>\n",
       "      <th>음주여부</th>\n",
       "      <th>구강검진 수검여부</th>\n",
       "      <th>치아우식증유무</th>\n",
       "      <th>결손치 유무</th>\n",
       "      <th>치아마모증유무</th>\n",
       "      <th>제3대구치(사랑니) 이상</th>\n",
       "      <th>치석</th>\n",
       "      <th>데이터 공개일자</th>\n",
       "    </tr>\n",
       "  </thead>\n",
       "  <tbody>\n",
       "    <tr>\n",
       "      <th>838415</th>\n",
       "      <td>2019</td>\n",
       "      <td>838416</td>\n",
       "      <td>41</td>\n",
       "      <td>1</td>\n",
       "      <td>10</td>\n",
       "      <td>170</td>\n",
       "      <td>65</td>\n",
       "      <td>82.6</td>\n",
       "      <td>1.2</td>\n",
       "      <td>1.0</td>\n",
       "      <td>...</td>\n",
       "      <td>17.0</td>\n",
       "      <td>1.0</td>\n",
       "      <td>1.0</td>\n",
       "      <td>1</td>\n",
       "      <td>0.0</td>\n",
       "      <td>미시행</td>\n",
       "      <td>미시행</td>\n",
       "      <td>미시행</td>\n",
       "      <td>1.0</td>\n",
       "      <td>20191231</td>\n",
       "    </tr>\n",
       "  </tbody>\n",
       "</table>\n",
       "<p>1 rows × 34 columns</p>\n",
       "</div>"
      ],
      "text/plain": [
       "        기준년도  가입자 일련번호  시도코드  성별코드  연령대 코드(5세단위)  신장(5Cm단위)  체중(5Kg 단위)  허리둘레  \\\n",
       "838415  2019    838416    41     1            10        170          65  82.6   \n",
       "\n",
       "        시력(좌)  시력(우)  ...  감마 지티피  흡연상태  음주여부  구강검진 수검여부  치아우식증유무  결손치 유무  \\\n",
       "838415    1.2    1.0  ...    17.0   1.0   1.0          1      0.0     미시행   \n",
       "\n",
       "        치아마모증유무  제3대구치(사랑니) 이상   치석  데이터 공개일자  \n",
       "838415      미시행            미시행  1.0  20191231  \n",
       "\n",
       "[1 rows x 34 columns]"
      ]
     },
     "execution_count": 4,
     "metadata": {},
     "output_type": "execute_result"
    }
   ],
   "source": [
    "# sample, head, tail을 통해 데이터를 미리보기\n",
    "data.head()\n",
    "data.tail()\n",
    "data.sample()"
   ]
  },
  {
   "cell_type": "markdown",
   "metadata": {},
   "source": [
    "# 6. 기본정보보기"
   ]
  },
  {
   "cell_type": "code",
   "execution_count": 5,
   "metadata": {},
   "outputs": [
    {
     "name": "stdout",
     "output_type": "stream",
     "text": [
      "<class 'pandas.core.frame.DataFrame'>\n",
      "RangeIndex: 1000000 entries, 0 to 999999\n",
      "Data columns (total 34 columns):\n",
      " #   Column         Non-Null Count    Dtype  \n",
      "---  ------         --------------    -----  \n",
      " 0   기준년도           1000000 non-null  int64  \n",
      " 1   가입자 일련번호       1000000 non-null  int64  \n",
      " 2   시도코드           1000000 non-null  int64  \n",
      " 3   성별코드           1000000 non-null  int64  \n",
      " 4   연령대 코드(5세단위)   1000000 non-null  int64  \n",
      " 5   신장(5Cm단위)      1000000 non-null  int64  \n",
      " 6   체중(5Kg 단위)     1000000 non-null  int64  \n",
      " 7   허리둘레           999597 non-null   float64\n",
      " 8   시력(좌)          999805 non-null   float64\n",
      " 9   시력(우)          999812 non-null   float64\n",
      " 10  청력(좌)          999819 non-null   float64\n",
      " 11  청력(우)          999822 non-null   float64\n",
      " 12  수축기 혈압         994576 non-null   float64\n",
      " 13  이완기 혈압         994575 non-null   float64\n",
      " 14  식전혈당(공복혈당)     994477 non-null   float64\n",
      " 15  총 콜레스테롤        333549 non-null   float64\n",
      " 16  트리글리세라이드       333544 non-null   float64\n",
      " 17  HDL 콜레스테롤      333541 non-null   float64\n",
      " 18  LDL 콜레스테롤      327148 non-null   float64\n",
      " 19  혈색소            994468 non-null   float64\n",
      " 20  요단백            989694 non-null   float64\n",
      " 21  혈청크레아티닌        994474 non-null   float64\n",
      " 22  (혈청지오티)AST     994478 non-null   float64\n",
      " 23  (혈청지오티)ALT     994477 non-null   float64\n",
      " 24  감마 지티피         994470 non-null   float64\n",
      " 25  흡연상태           999834 non-null   float64\n",
      " 26  음주여부           644918 non-null   float64\n",
      " 27  구강검진 수검여부      1000000 non-null  int64  \n",
      " 28  치아우식증유무        397680 non-null   float64\n",
      " 29  결손치 유무         1000000 non-null  object \n",
      " 30  치아마모증유무        1000000 non-null  object \n",
      " 31  제3대구치(사랑니) 이상  1000000 non-null  object \n",
      " 32  치석             397680 non-null   float64\n",
      " 33  데이터 공개일자       1000000 non-null  int64  \n",
      "dtypes: float64(22), int64(9), object(3)\n",
      "memory usage: 259.4+ MB\n"
     ]
    }
   ],
   "source": [
    "# info를 통해 데이터의 크기, 형식, 메모리 사용량 등 확인\n",
    "data.info()"
   ]
  },
  {
   "cell_type": "code",
   "execution_count": 6,
   "metadata": {},
   "outputs": [
    {
     "data": {
      "text/plain": [
       "Index(['기준년도', '가입자 일련번호', '시도코드', '성별코드', '연령대 코드(5세단위)', '신장(5Cm단위)',\n",
       "       '체중(5Kg 단위)', '허리둘레', '시력(좌)', '시력(우)', '청력(좌)', '청력(우)', '수축기 혈압',\n",
       "       '이완기 혈압', '식전혈당(공복혈당)', '총 콜레스테롤', '트리글리세라이드', 'HDL 콜레스테롤', 'LDL 콜레스테롤',\n",
       "       '혈색소', '요단백', '혈청크레아티닌', '(혈청지오티)AST', '(혈청지오티)ALT', '감마 지티피', '흡연상태',\n",
       "       '음주여부', '구강검진 수검여부', '치아우식증유무', '결손치 유무', '치아마모증유무', '제3대구치(사랑니) 이상',\n",
       "       '치석', '데이터 공개일자'],\n",
       "      dtype='object')"
      ]
     },
     "execution_count": 6,
     "metadata": {},
     "output_type": "execute_result"
    }
   ],
   "source": [
    "# 데이터가 너무 많기 때문에 column 불러오기\n",
    "data.columns"
   ]
  },
  {
   "cell_type": "code",
   "execution_count": 7,
   "metadata": {},
   "outputs": [
    {
     "data": {
      "text/plain": [
       "기준년도               int64\n",
       "가입자 일련번호           int64\n",
       "시도코드               int64\n",
       "성별코드               int64\n",
       "연령대 코드(5세단위)       int64\n",
       "신장(5Cm단위)          int64\n",
       "체중(5Kg 단위)         int64\n",
       "허리둘레             float64\n",
       "시력(좌)            float64\n",
       "시력(우)            float64\n",
       "청력(좌)            float64\n",
       "청력(우)            float64\n",
       "수축기 혈압           float64\n",
       "이완기 혈압           float64\n",
       "식전혈당(공복혈당)       float64\n",
       "총 콜레스테롤          float64\n",
       "트리글리세라이드         float64\n",
       "HDL 콜레스테롤        float64\n",
       "LDL 콜레스테롤        float64\n",
       "혈색소              float64\n",
       "요단백              float64\n",
       "혈청크레아티닌          float64\n",
       "(혈청지오티)AST       float64\n",
       "(혈청지오티)ALT       float64\n",
       "감마 지티피           float64\n",
       "흡연상태             float64\n",
       "음주여부             float64\n",
       "구강검진 수검여부          int64\n",
       "치아우식증유무          float64\n",
       "결손치 유무            object\n",
       "치아마모증유무           object\n",
       "제3대구치(사랑니) 이상     object\n",
       "치석               float64\n",
       "데이터 공개일자           int64\n",
       "dtype: object"
      ]
     },
     "execution_count": 7,
     "metadata": {},
     "output_type": "execute_result"
    }
   ],
   "source": [
    "# dtypes를 통해 데이터 형식만 출력\n",
    "data.dtypes"
   ]
  },
  {
   "cell_type": "markdown",
   "metadata": {},
   "source": [
    "#### Part1. 음주 여부에 따라 건강검진 수치 차이가 있을까?\n",
    "- 라이브러리 로드 및 한글 폰트 설정\n",
    "- 데이터셋 소개와 로드\n",
    "----\n",
    "\n",
    "# part2. 데이터 그룹화와 연산하기\n",
    "# 7. 결측치 보기"
   ]
  },
  {
   "cell_type": "code",
   "execution_count": 11,
   "metadata": {},
   "outputs": [
    {
     "data": {
      "text/plain": [
       "기준년도                  0\n",
       "가입자 일련번호              0\n",
       "시도코드                  0\n",
       "성별코드                  0\n",
       "연령대 코드(5세단위)          0\n",
       "신장(5Cm단위)             0\n",
       "체중(5Kg 단위)            0\n",
       "허리둘레                403\n",
       "시력(좌)               195\n",
       "시력(우)               188\n",
       "청력(좌)               181\n",
       "청력(우)               178\n",
       "수축기 혈압             5424\n",
       "이완기 혈압             5425\n",
       "식전혈당(공복혈당)         5523\n",
       "총 콜레스테롤          666451\n",
       "트리글리세라이드         666456\n",
       "HDL 콜레스테롤        666459\n",
       "LDL 콜레스테롤        672852\n",
       "혈색소                5532\n",
       "요단백               10306\n",
       "혈청크레아티닌            5526\n",
       "(혈청지오티)AST         5522\n",
       "(혈청지오티)ALT         5523\n",
       "감마 지티피             5530\n",
       "흡연상태                166\n",
       "음주여부             355082\n",
       "구강검진 수검여부             0\n",
       "치아우식증유무          602320\n",
       "결손치 유무                0\n",
       "치아마모증유무               0\n",
       "제3대구치(사랑니) 이상         0\n",
       "치석               602320\n",
       "데이터 공개일자              0\n",
       "dtype: int64"
      ]
     },
     "execution_count": 11,
     "metadata": {},
     "output_type": "execute_result"
    }
   ],
   "source": [
    "# isnull을 통해 결측치를 bool(0 or 1 , 결측치 일 경우 1) 값으로 표시하고 sum으로 컬럼마다의 결측치 수를 셀 수 있다.\n",
    "df = data\n",
    "df.isnull().sum()"
   ]
  },
  {
   "cell_type": "code",
   "execution_count": 54,
   "metadata": {},
   "outputs": [
    {
     "data": {
      "text/plain": [
       "기준년도                  0\n",
       "가입자 일련번호              0\n",
       "시도코드                  0\n",
       "성별코드                  0\n",
       "연령대 코드(5세단위)          0\n",
       "신장(5Cm단위)             0\n",
       "체중(5Kg 단위)            0\n",
       "허리둘레                403\n",
       "시력(좌)               195\n",
       "시력(우)               188\n",
       "청력(좌)               181\n",
       "청력(우)               178\n",
       "수축기 혈압             5424\n",
       "이완기 혈압             5425\n",
       "식전혈당(공복혈당)         5523\n",
       "총 콜레스테롤          666451\n",
       "트리글리세라이드         666456\n",
       "HDL 콜레스테롤        666459\n",
       "LDL 콜레스테롤        672852\n",
       "혈색소                5532\n",
       "요단백               10306\n",
       "혈청크레아티닌            5526\n",
       "(혈청지오티)AST         5522\n",
       "(혈청지오티)ALT         5523\n",
       "감마 지티피             5530\n",
       "흡연상태                166\n",
       "음주여부             355082\n",
       "구강검진 수검여부             0\n",
       "치아우식증유무          602320\n",
       "결손치 유무                0\n",
       "치아마모증유무               0\n",
       "제3대구치(사랑니) 이상         0\n",
       "치석               602320\n",
       "데이터 공개일자              0\n",
       "dtype: int64"
      ]
     },
     "execution_count": 54,
     "metadata": {},
     "output_type": "execute_result"
    }
   ],
   "source": [
    "# isna로도 결측치 여부를 확인하고 sum으로 결측치를 셀 수 있다.\n",
    "df.isna().sum()"
   ]
  },
  {
   "cell_type": "code",
   "execution_count": 21,
   "metadata": {},
   "outputs": [
    {
     "data": {
      "text/plain": [
       "<matplotlib.axes._subplots.AxesSubplot at 0x204bd1be6c8>"
      ]
     },
     "execution_count": 21,
     "metadata": {},
     "output_type": "execute_result"
    },
    {
     "data": {
      "image/png": "[encoded data removed]",
      "text/plain": [
       "<Figure size 720x576 with 1 Axes>"
      ]
     },
     "metadata": {
      "image/png": {
       "height": 466,
       "width": 695
      },
      "needs_background": "light"
     },
     "output_type": "display_data"
    }
   ],
   "source": [
    "# 판다스에 내장 된 plot을 통해 컬럼별 결측치 수를 시각화할 수 있다.\n",
    "# df.isnull().sum().plot()\n",
    "df.isnull().sum().plot.barh(figsize=(10,8))"
   ]
  },
  {
   "cell_type": "markdown",
   "metadata": {},
   "source": [
    "# 8. 일부 데이터 요약하기"
   ]
  },
  {
   "cell_type": "code",
   "execution_count": 23,
   "metadata": {},
   "outputs": [
    {
     "data": {
      "text/plain": [
       "Index(['기준년도', '가입자 일련번호', '시도코드', '성별코드', '연령대 코드(5세단위)', '신장(5Cm단위)',\n",
       "       '체중(5Kg 단위)', '허리둘레', '시력(좌)', '시력(우)', '청력(좌)', '청력(우)', '수축기 혈압',\n",
       "       '이완기 혈압', '식전혈당(공복혈당)', '총 콜레스테롤', '트리글리세라이드', 'HDL 콜레스테롤', 'LDL 콜레스테롤',\n",
       "       '혈색소', '요단백', '혈청크레아티닌', '(혈청지오티)AST', '(혈청지오티)ALT', '감마 지티피', '흡연상태',\n",
       "       '음주여부', '구강검진 수검여부', '치아우식증유무', '결손치 유무', '치아마모증유무', '제3대구치(사랑니) 이상',\n",
       "       '치석', '데이터 공개일자'],\n",
       "      dtype='object')"
      ]
     },
     "execution_count": 23,
     "metadata": {},
     "output_type": "execute_result"
    }
   ],
   "source": [
    "df.columns"
   ]
  },
  {
   "cell_type": "code",
   "execution_count": 27,
   "metadata": {},
   "outputs": [
    {
     "name": "stdout",
     "output_type": "stream",
     "text": [
      "<class 'pandas.core.frame.DataFrame'>\n",
      "RangeIndex: 1000000 entries, 0 to 999999\n",
      "Data columns (total 2 columns):\n",
      " #   Column      Non-Null Count   Dtype  \n",
      "---  ------      --------------   -----  \n",
      " 0   (혈청지오티)AST  994478 non-null  float64\n",
      " 1   (혈청지오티)ALT  994477 non-null  float64\n",
      "dtypes: float64(2)\n",
      "memory usage: 15.3 MB\n"
     ]
    },
    {
     "data": {
      "text/html": [
       "<div>\n",
       "<style scoped>\n",
       "    .dataframe tbody tr th:only-of-type {\n",
       "        vertical-align: middle;\n",
       "    }\n",
       "\n",
       "    .dataframe tbody tr th {\n",
       "        vertical-align: top;\n",
       "    }\n",
       "\n",
       "    .dataframe thead th {\n",
       "        text-align: right;\n",
       "    }\n",
       "</style>\n",
       "<table border=\"1\" class=\"dataframe\">\n",
       "  <thead>\n",
       "    <tr style=\"text-align: right;\">\n",
       "      <th></th>\n",
       "      <th>(혈청지오티)AST</th>\n",
       "      <th>(혈청지오티)ALT</th>\n",
       "    </tr>\n",
       "  </thead>\n",
       "  <tbody>\n",
       "    <tr>\n",
       "      <th>count</th>\n",
       "      <td>994478.000000</td>\n",
       "      <td>994477.000000</td>\n",
       "    </tr>\n",
       "    <tr>\n",
       "      <th>mean</th>\n",
       "      <td>26.231107</td>\n",
       "      <td>25.996708</td>\n",
       "    </tr>\n",
       "    <tr>\n",
       "      <th>std</th>\n",
       "      <td>24.046478</td>\n",
       "      <td>27.710895</td>\n",
       "    </tr>\n",
       "    <tr>\n",
       "      <th>min</th>\n",
       "      <td>1.000000</td>\n",
       "      <td>1.000000</td>\n",
       "    </tr>\n",
       "    <tr>\n",
       "      <th>25%</th>\n",
       "      <td>19.000000</td>\n",
       "      <td>15.000000</td>\n",
       "    </tr>\n",
       "    <tr>\n",
       "      <th>50%</th>\n",
       "      <td>23.000000</td>\n",
       "      <td>20.000000</td>\n",
       "    </tr>\n",
       "    <tr>\n",
       "      <th>75%</th>\n",
       "      <td>29.000000</td>\n",
       "      <td>30.000000</td>\n",
       "    </tr>\n",
       "    <tr>\n",
       "      <th>max</th>\n",
       "      <td>7362.000000</td>\n",
       "      <td>6435.000000</td>\n",
       "    </tr>\n",
       "  </tbody>\n",
       "</table>\n",
       "</div>"
      ],
      "text/plain": [
       "          (혈청지오티)AST     (혈청지오티)ALT\n",
       "count  994478.000000  994477.000000\n",
       "mean       26.231107      25.996708\n",
       "std        24.046478      27.710895\n",
       "min         1.000000       1.000000\n",
       "25%        19.000000      15.000000\n",
       "50%        23.000000      20.000000\n",
       "75%        29.000000      30.000000\n",
       "max      7362.000000    6435.000000"
      ]
     },
     "execution_count": 27,
     "metadata": {},
     "output_type": "execute_result"
    }
   ],
   "source": [
    "# 여럭 컬럼 가져오기\n",
    "# '(혈청지오티)AST', '(혈청지오티)ALT' 가져와 미리보기\n",
    "df[['(혈청지오티)AST', '(혈청지오티)ALT']]\n",
    "df[['(혈청지오티)AST', '(혈청지오티)ALT']].info()\n",
    "df[['(혈청지오티)AST', '(혈청지오티)ALT']].describe()"
   ]
  },
  {
   "cell_type": "markdown",
   "metadata": {},
   "source": [
    "# 9. value_counts로 값 집계하기"
   ]
  },
  {
   "cell_type": "code",
   "execution_count": 31,
   "metadata": {},
   "outputs": [
    {
     "data": {
      "text/plain": [
       "1    519574\n",
       "2    480426\n",
       "Name: 성별코드, dtype: int64"
      ]
     },
     "execution_count": 31,
     "metadata": {},
     "output_type": "execute_result"
    }
   ],
   "source": [
    "# value_counts를 통해 성별코드로 그룹화 하고 개수를 집계\n",
    "df['성별코드'].value_counts()"
   ]
  },
  {
   "cell_type": "code",
   "execution_count": 34,
   "metadata": {},
   "outputs": [
    {
     "data": {
      "text/plain": [
       "1.0    630226\n",
       "2.0    369608\n",
       "Name: 흡연상태, dtype: int64"
      ]
     },
     "execution_count": 34,
     "metadata": {},
     "output_type": "execute_result"
    }
   ],
   "source": [
    "# value_counts를 통해 흡연상태로 그룹화 하고 개수를 집계\n",
    "df.columns\n",
    "df['흡연상태'].value_counts()\n",
    "# 1.0 : 흡연 / 2.0 : 비흡연"
   ]
  },
  {
   "cell_type": "markdown",
   "metadata": {},
   "source": [
    "# 10. groupby와 pivot_table 사용하기\n",
    "## 10.1 goupby"
   ]
  },
  {
   "cell_type": "code",
   "execution_count": 52,
   "metadata": {},
   "outputs": [
    {
     "data": {
      "text/plain": [
       "음주여부\n",
       "0.0        18\n",
       "1.0    644900\n",
       "Name: 가입자 일련번호, dtype: int64"
      ]
     },
     "execution_count": 52,
     "metadata": {},
     "output_type": "execute_result"
    }
   ],
   "source": [
    "# groupby를 통해 데이터를 그룹화한다.\n",
    "# 성별코드로 그룹화 한 데이터를 세어봅니다.\n",
    "\n",
    "# df.groupby(['성별코드']).count() # 1: 남성, 2: 여성\n",
    "df.groupby(['성별코드'])['가입자 일련번호'].count() "
   ]
  },
  {
   "cell_type": "code",
   "execution_count": 56,
   "metadata": {},
   "outputs": [
    {
     "name": "stdout",
     "output_type": "stream",
     "text": [
      "644918\n"
     ]
    },
    {
     "data": {
      "text/plain": [
       "성별코드  음주여부\n",
       "1     0.0          7\n",
       "      1.0     401249\n",
       "2     0.0         11\n",
       "      1.0     243651\n",
       "Name: 가입자 일련번호, dtype: int64"
      ]
     },
     "execution_count": 56,
     "metadata": {},
     "output_type": "execute_result"
    }
   ],
   "source": [
    "# 성별코드와 음주여부로 그룹화 한 데이터를 세어봅니다.\n",
    "print(len(df)-df['음주여부'].isna().sum())  # 음주여부 답변 개수\n",
    "df.groupby(['성별코드','음주여부'])['가입자 일련번호'].count() "
   ]
  },
  {
   "cell_type": "code",
   "execution_count": 58,
   "metadata": {},
   "outputs": [
    {
     "data": {
      "text/plain": [
       "성별코드  음주여부\n",
       "1     0.0     26.000000\n",
       "      1.0     52.159757\n",
       "2     0.0     27.000000\n",
       "      1.0     23.565117\n",
       "Name: 감마 지티피, dtype: float64"
      ]
     },
     "execution_count": 58,
     "metadata": {},
     "output_type": "execute_result"
    }
   ],
   "source": [
    "# 성별코드와 음주여부로 그룹화를 하고 감마지티피의 평균을 구한다.\n",
    "\n",
    "df.groupby(['성별코드','음주여부'])['감마 지티피'].mean()"
   ]
  },
  {
   "cell_type": "code",
   "execution_count": 60,
   "metadata": {},
   "outputs": [
    {
     "data": {
      "text/html": [
       "<div>\n",
       "<style scoped>\n",
       "    .dataframe tbody tr th:only-of-type {\n",
       "        vertical-align: middle;\n",
       "    }\n",
       "\n",
       "    .dataframe tbody tr th {\n",
       "        vertical-align: top;\n",
       "    }\n",
       "\n",
       "    .dataframe thead tr th {\n",
       "        text-align: left;\n",
       "    }\n",
       "</style>\n",
       "<table border=\"1\" class=\"dataframe\">\n",
       "  <thead>\n",
       "    <tr>\n",
       "      <th>성별코드</th>\n",
       "      <th colspan=\"2\" halign=\"left\">1</th>\n",
       "      <th colspan=\"2\" halign=\"left\">2</th>\n",
       "    </tr>\n",
       "    <tr>\n",
       "      <th>음주여부</th>\n",
       "      <th>0.0</th>\n",
       "      <th>1.0</th>\n",
       "      <th>0.0</th>\n",
       "      <th>1.0</th>\n",
       "    </tr>\n",
       "  </thead>\n",
       "  <tbody>\n",
       "    <tr>\n",
       "      <th>count</th>\n",
       "      <td>7.000000</td>\n",
       "      <td>400496.000000</td>\n",
       "      <td>11.000000</td>\n",
       "      <td>243215.000000</td>\n",
       "    </tr>\n",
       "    <tr>\n",
       "      <th>mean</th>\n",
       "      <td>26.000000</td>\n",
       "      <td>52.159757</td>\n",
       "      <td>27.000000</td>\n",
       "      <td>23.565117</td>\n",
       "    </tr>\n",
       "    <tr>\n",
       "      <th>std</th>\n",
       "      <td>12.897028</td>\n",
       "      <td>62.807391</td>\n",
       "      <td>15.968719</td>\n",
       "      <td>31.881879</td>\n",
       "    </tr>\n",
       "    <tr>\n",
       "      <th>min</th>\n",
       "      <td>10.000000</td>\n",
       "      <td>1.000000</td>\n",
       "      <td>5.000000</td>\n",
       "      <td>1.000000</td>\n",
       "    </tr>\n",
       "    <tr>\n",
       "      <th>25%</th>\n",
       "      <td>18.500000</td>\n",
       "      <td>22.000000</td>\n",
       "      <td>16.500000</td>\n",
       "      <td>13.000000</td>\n",
       "    </tr>\n",
       "    <tr>\n",
       "      <th>50%</th>\n",
       "      <td>21.000000</td>\n",
       "      <td>34.000000</td>\n",
       "      <td>20.000000</td>\n",
       "      <td>16.000000</td>\n",
       "    </tr>\n",
       "    <tr>\n",
       "      <th>75%</th>\n",
       "      <td>34.000000</td>\n",
       "      <td>58.000000</td>\n",
       "      <td>40.500000</td>\n",
       "      <td>24.000000</td>\n",
       "    </tr>\n",
       "    <tr>\n",
       "      <th>max</th>\n",
       "      <td>46.000000</td>\n",
       "      <td>999.000000</td>\n",
       "      <td>53.000000</td>\n",
       "      <td>999.000000</td>\n",
       "    </tr>\n",
       "  </tbody>\n",
       "</table>\n",
       "</div>"
      ],
      "text/plain": [
       "성별코드           1                         2               \n",
       "음주여부         0.0            1.0        0.0            1.0\n",
       "count   7.000000  400496.000000  11.000000  243215.000000\n",
       "mean   26.000000      52.159757  27.000000      23.565117\n",
       "std    12.897028      62.807391  15.968719      31.881879\n",
       "min    10.000000       1.000000   5.000000       1.000000\n",
       "25%    18.500000      22.000000  16.500000      13.000000\n",
       "50%    21.000000      34.000000  20.000000      16.000000\n",
       "75%    34.000000      58.000000  40.500000      24.000000\n",
       "max    46.000000     999.000000  53.000000     999.000000"
      ]
     },
     "execution_count": 60,
     "metadata": {},
     "output_type": "execute_result"
    }
   ],
   "source": [
    "# 성별코드와 음주여부로 그룹화를 하고 감마지티피의  요약수치를 구한다.\n",
    "\n",
    "df.groupby(['성별코드','음주여부'])['감마 지티피'].describe().transpose()"
   ]
  },
  {
   "cell_type": "code",
   "execution_count": 63,
   "metadata": {},
   "outputs": [
    {
     "data": {
      "text/html": [
       "<div>\n",
       "<style scoped>\n",
       "    .dataframe tbody tr th:only-of-type {\n",
       "        vertical-align: middle;\n",
       "    }\n",
       "\n",
       "    .dataframe tbody tr th {\n",
       "        vertical-align: top;\n",
       "    }\n",
       "\n",
       "    .dataframe thead th {\n",
       "        text-align: right;\n",
       "    }\n",
       "</style>\n",
       "<table border=\"1\" class=\"dataframe\">\n",
       "  <thead>\n",
       "    <tr style=\"text-align: right;\">\n",
       "      <th></th>\n",
       "      <th></th>\n",
       "      <th>count</th>\n",
       "      <th>mean</th>\n",
       "      <th>median</th>\n",
       "    </tr>\n",
       "    <tr>\n",
       "      <th>성별코드</th>\n",
       "      <th>음주여부</th>\n",
       "      <th></th>\n",
       "      <th></th>\n",
       "      <th></th>\n",
       "    </tr>\n",
       "  </thead>\n",
       "  <tbody>\n",
       "    <tr>\n",
       "      <th rowspan=\"2\" valign=\"top\">1</th>\n",
       "      <th>0.0</th>\n",
       "      <td>7</td>\n",
       "      <td>26.000000</td>\n",
       "      <td>21.0</td>\n",
       "    </tr>\n",
       "    <tr>\n",
       "      <th>1.0</th>\n",
       "      <td>400496</td>\n",
       "      <td>52.159757</td>\n",
       "      <td>34.0</td>\n",
       "    </tr>\n",
       "    <tr>\n",
       "      <th rowspan=\"2\" valign=\"top\">2</th>\n",
       "      <th>0.0</th>\n",
       "      <td>11</td>\n",
       "      <td>27.000000</td>\n",
       "      <td>20.0</td>\n",
       "    </tr>\n",
       "    <tr>\n",
       "      <th>1.0</th>\n",
       "      <td>243215</td>\n",
       "      <td>23.565117</td>\n",
       "      <td>16.0</td>\n",
       "    </tr>\n",
       "  </tbody>\n",
       "</table>\n",
       "</div>"
      ],
      "text/plain": [
       "            count       mean  median\n",
       "성별코드 음주여부                           \n",
       "1    0.0        7  26.000000    21.0\n",
       "     1.0   400496  52.159757    34.0\n",
       "2    0.0       11  27.000000    20.0\n",
       "     1.0   243215  23.565117    16.0"
      ]
     },
     "execution_count": 63,
     "metadata": {},
     "output_type": "execute_result"
    }
   ],
   "source": [
    "# agg을 사용하면 선택한 수치를 함께 구할 수 있다.\n",
    "df.groupby(['성별코드','음주여부'])['감마 지티피'].agg(['count','mean','median'])"
   ]
  },
  {
   "cell_type": "markdown",
   "metadata": {},
   "source": [
    "# 10.2 Pivot_table"
   ]
  },
  {
   "cell_type": "code",
   "execution_count": 70,
   "metadata": {},
   "outputs": [
    {
     "data": {
      "text/html": [
       "<div>\n",
       "<style scoped>\n",
       "    .dataframe tbody tr th:only-of-type {\n",
       "        vertical-align: middle;\n",
       "    }\n",
       "\n",
       "    .dataframe tbody tr th {\n",
       "        vertical-align: top;\n",
       "    }\n",
       "\n",
       "    .dataframe thead th {\n",
       "        text-align: right;\n",
       "    }\n",
       "</style>\n",
       "<table border=\"1\" class=\"dataframe\">\n",
       "  <thead>\n",
       "    <tr style=\"text-align: right;\">\n",
       "      <th></th>\n",
       "      <th>가입자 일련번호</th>\n",
       "    </tr>\n",
       "    <tr>\n",
       "      <th>음주여부</th>\n",
       "      <th></th>\n",
       "    </tr>\n",
       "  </thead>\n",
       "  <tbody>\n",
       "    <tr>\n",
       "      <th>0.0</th>\n",
       "      <td>18</td>\n",
       "    </tr>\n",
       "    <tr>\n",
       "      <th>1.0</th>\n",
       "      <td>644900</td>\n",
       "    </tr>\n",
       "  </tbody>\n",
       "</table>\n",
       "</div>"
      ],
      "text/plain": [
       "      가입자 일련번호\n",
       "음주여부          \n",
       "0.0         18\n",
       "1.0     644900"
      ]
     },
     "execution_count": 70,
     "metadata": {},
     "output_type": "execute_result"
    }
   ],
   "source": [
    "# 음주여부에 따른 그룹화된 수를 피봇테이블로 구한다.\n",
    "df.pivot_table(index='음주여부',values ='가입자 일련번호',aggfunc='count')"
   ]
  },
  {
   "cell_type": "code",
   "execution_count": 78,
   "metadata": {},
   "outputs": [
    {
     "data": {
      "text/html": [
       "<div>\n",
       "<style scoped>\n",
       "    .dataframe tbody tr th:only-of-type {\n",
       "        vertical-align: middle;\n",
       "    }\n",
       "\n",
       "    .dataframe tbody tr th {\n",
       "        vertical-align: top;\n",
       "    }\n",
       "\n",
       "    .dataframe thead th {\n",
       "        text-align: right;\n",
       "    }\n",
       "</style>\n",
       "<table border=\"1\" class=\"dataframe\">\n",
       "  <thead>\n",
       "    <tr style=\"text-align: right;\">\n",
       "      <th></th>\n",
       "      <th>감마 지티피</th>\n",
       "    </tr>\n",
       "    <tr>\n",
       "      <th>음주여부</th>\n",
       "      <th></th>\n",
       "    </tr>\n",
       "  </thead>\n",
       "  <tbody>\n",
       "    <tr>\n",
       "      <th>0.0</th>\n",
       "      <td>26.611111</td>\n",
       "    </tr>\n",
       "    <tr>\n",
       "      <th>1.0</th>\n",
       "      <td>41.355770</td>\n",
       "    </tr>\n",
       "  </tbody>\n",
       "</table>\n",
       "</div>"
      ],
      "text/plain": [
       "         감마 지티피\n",
       "음주여부           \n",
       "0.0   26.611111\n",
       "1.0   41.355770"
      ]
     },
     "execution_count": 78,
     "metadata": {},
     "output_type": "execute_result"
    }
   ],
   "source": [
    "# 음주여부에 따른 감마지티피의 평균을 구한다.\n",
    "pd.pivot_table(df, index= '음주여부', values ='감마 지티피' )"
   ]
  },
  {
   "cell_type": "code",
   "execution_count": 77,
   "metadata": {},
   "outputs": [
    {
     "data": {
      "text/html": [
       "<div>\n",
       "<style scoped>\n",
       "    .dataframe tbody tr th:only-of-type {\n",
       "        vertical-align: middle;\n",
       "    }\n",
       "\n",
       "    .dataframe tbody tr th {\n",
       "        vertical-align: top;\n",
       "    }\n",
       "\n",
       "    .dataframe thead tr th {\n",
       "        text-align: left;\n",
       "    }\n",
       "\n",
       "    .dataframe thead tr:last-of-type th {\n",
       "        text-align: right;\n",
       "    }\n",
       "</style>\n",
       "<table border=\"1\" class=\"dataframe\">\n",
       "  <thead>\n",
       "    <tr>\n",
       "      <th></th>\n",
       "      <th>mean</th>\n",
       "      <th>median</th>\n",
       "    </tr>\n",
       "    <tr>\n",
       "      <th></th>\n",
       "      <th>감마 지티피</th>\n",
       "      <th>감마 지티피</th>\n",
       "    </tr>\n",
       "    <tr>\n",
       "      <th>음주여부</th>\n",
       "      <th></th>\n",
       "      <th></th>\n",
       "    </tr>\n",
       "  </thead>\n",
       "  <tbody>\n",
       "    <tr>\n",
       "      <th>0.0</th>\n",
       "      <td>26.611111</td>\n",
       "      <td>20.5</td>\n",
       "    </tr>\n",
       "    <tr>\n",
       "      <th>1.0</th>\n",
       "      <td>41.355770</td>\n",
       "      <td>26.0</td>\n",
       "    </tr>\n",
       "  </tbody>\n",
       "</table>\n",
       "</div>"
      ],
      "text/plain": [
       "           mean median\n",
       "         감마 지티피 감마 지티피\n",
       "음주여부                  \n",
       "0.0   26.611111   20.5\n",
       "1.0   41.355770   26.0"
      ]
     },
     "execution_count": 77,
     "metadata": {},
     "output_type": "execute_result"
    }
   ],
   "source": [
    "# aggfunc에 여러 값을 한번에 지정할 수도 있다.\n",
    "pd.pivot_table(df, index= '음주여부', values ='감마 지티피',aggfunc=['mean','median'] )"
   ]
  },
  {
   "cell_type": "code",
   "execution_count": 79,
   "metadata": {},
   "outputs": [
    {
     "data": {
      "text/html": [
       "<div>\n",
       "<style scoped>\n",
       "    .dataframe tbody tr th:only-of-type {\n",
       "        vertical-align: middle;\n",
       "    }\n",
       "\n",
       "    .dataframe tbody tr th {\n",
       "        vertical-align: top;\n",
       "    }\n",
       "\n",
       "    .dataframe thead th {\n",
       "        text-align: right;\n",
       "    }\n",
       "</style>\n",
       "<table border=\"1\" class=\"dataframe\">\n",
       "  <thead>\n",
       "    <tr style=\"text-align: right;\">\n",
       "      <th></th>\n",
       "      <th>25%</th>\n",
       "      <th>50%</th>\n",
       "      <th>75%</th>\n",
       "      <th>count</th>\n",
       "      <th>max</th>\n",
       "      <th>mean</th>\n",
       "      <th>min</th>\n",
       "      <th>std</th>\n",
       "    </tr>\n",
       "    <tr>\n",
       "      <th>음주여부</th>\n",
       "      <th></th>\n",
       "      <th></th>\n",
       "      <th></th>\n",
       "      <th></th>\n",
       "      <th></th>\n",
       "      <th></th>\n",
       "      <th></th>\n",
       "      <th></th>\n",
       "    </tr>\n",
       "  </thead>\n",
       "  <tbody>\n",
       "    <tr>\n",
       "      <th>0.0</th>\n",
       "      <td>17.25</td>\n",
       "      <td>20.5</td>\n",
       "      <td>39.5</td>\n",
       "      <td>18.0</td>\n",
       "      <td>53.0</td>\n",
       "      <td>26.611111</td>\n",
       "      <td>5.0</td>\n",
       "      <td>14.455363</td>\n",
       "    </tr>\n",
       "    <tr>\n",
       "      <th>1.0</th>\n",
       "      <td>17.00</td>\n",
       "      <td>26.0</td>\n",
       "      <td>45.0</td>\n",
       "      <td>643711.0</td>\n",
       "      <td>999.0</td>\n",
       "      <td>41.355770</td>\n",
       "      <td>1.0</td>\n",
       "      <td>55.050548</td>\n",
       "    </tr>\n",
       "  </tbody>\n",
       "</table>\n",
       "</div>"
      ],
      "text/plain": [
       "        25%   50%   75%     count    max       mean  min        std\n",
       "음주여부                                                               \n",
       "0.0   17.25  20.5  39.5      18.0   53.0  26.611111  5.0  14.455363\n",
       "1.0   17.00  26.0  45.0  643711.0  999.0  41.355770  1.0  55.050548"
      ]
     },
     "execution_count": 79,
     "metadata": {},
     "output_type": "execute_result"
    }
   ],
   "source": [
    "# aggfunc에 describe를 사용해 통계 요약값을 한번에 볼 수도 있다.\n",
    "pd.pivot_table(df, index= '음주여부', values ='감마 지티피',aggfunc='describe' )"
   ]
  },
  {
   "cell_type": "code",
   "execution_count": 80,
   "metadata": {},
   "outputs": [
    {
     "data": {
      "text/html": [
       "<div>\n",
       "<style scoped>\n",
       "    .dataframe tbody tr th:only-of-type {\n",
       "        vertical-align: middle;\n",
       "    }\n",
       "\n",
       "    .dataframe tbody tr th {\n",
       "        vertical-align: top;\n",
       "    }\n",
       "\n",
       "    .dataframe thead th {\n",
       "        text-align: right;\n",
       "    }\n",
       "</style>\n",
       "<table border=\"1\" class=\"dataframe\">\n",
       "  <thead>\n",
       "    <tr style=\"text-align: right;\">\n",
       "      <th></th>\n",
       "      <th></th>\n",
       "      <th>25%</th>\n",
       "      <th>50%</th>\n",
       "      <th>75%</th>\n",
       "      <th>count</th>\n",
       "      <th>max</th>\n",
       "      <th>mean</th>\n",
       "      <th>min</th>\n",
       "      <th>std</th>\n",
       "    </tr>\n",
       "    <tr>\n",
       "      <th>음주여부</th>\n",
       "      <th>성별코드</th>\n",
       "      <th></th>\n",
       "      <th></th>\n",
       "      <th></th>\n",
       "      <th></th>\n",
       "      <th></th>\n",
       "      <th></th>\n",
       "      <th></th>\n",
       "      <th></th>\n",
       "    </tr>\n",
       "  </thead>\n",
       "  <tbody>\n",
       "    <tr>\n",
       "      <th rowspan=\"2\" valign=\"top\">0.0</th>\n",
       "      <th>1</th>\n",
       "      <td>18.5</td>\n",
       "      <td>21.0</td>\n",
       "      <td>34.0</td>\n",
       "      <td>7.0</td>\n",
       "      <td>46.0</td>\n",
       "      <td>26.000000</td>\n",
       "      <td>10.0</td>\n",
       "      <td>12.897028</td>\n",
       "    </tr>\n",
       "    <tr>\n",
       "      <th>2</th>\n",
       "      <td>16.5</td>\n",
       "      <td>20.0</td>\n",
       "      <td>40.5</td>\n",
       "      <td>11.0</td>\n",
       "      <td>53.0</td>\n",
       "      <td>27.000000</td>\n",
       "      <td>5.0</td>\n",
       "      <td>15.968719</td>\n",
       "    </tr>\n",
       "    <tr>\n",
       "      <th rowspan=\"2\" valign=\"top\">1.0</th>\n",
       "      <th>1</th>\n",
       "      <td>22.0</td>\n",
       "      <td>34.0</td>\n",
       "      <td>58.0</td>\n",
       "      <td>400496.0</td>\n",
       "      <td>999.0</td>\n",
       "      <td>52.159757</td>\n",
       "      <td>1.0</td>\n",
       "      <td>62.807391</td>\n",
       "    </tr>\n",
       "    <tr>\n",
       "      <th>2</th>\n",
       "      <td>13.0</td>\n",
       "      <td>16.0</td>\n",
       "      <td>24.0</td>\n",
       "      <td>243215.0</td>\n",
       "      <td>999.0</td>\n",
       "      <td>23.565117</td>\n",
       "      <td>1.0</td>\n",
       "      <td>31.881879</td>\n",
       "    </tr>\n",
       "  </tbody>\n",
       "</table>\n",
       "</div>"
      ],
      "text/plain": [
       "            25%   50%   75%     count    max       mean   min        std\n",
       "음주여부 성별코드                                                               \n",
       "0.0  1     18.5  21.0  34.0       7.0   46.0  26.000000  10.0  12.897028\n",
       "     2     16.5  20.0  40.5      11.0   53.0  27.000000   5.0  15.968719\n",
       "1.0  1     22.0  34.0  58.0  400496.0  999.0  52.159757   1.0  62.807391\n",
       "     2     13.0  16.0  24.0  243215.0  999.0  23.565117   1.0  31.881879"
      ]
     },
     "execution_count": 80,
     "metadata": {},
     "output_type": "execute_result"
    }
   ],
   "source": [
    "# 성별코드, 음주여부에 따른 감마지티피 값의 평균을 구할 수 있다.\n",
    "pd.pivot_table(df, index= ['음주여부','성별코드'], values ='감마 지티피',aggfunc='describe' )"
   ]
  },
  {
   "cell_type": "markdown",
   "metadata": {},
   "source": [
    "#### Part2. 데이터 그룹화와 연산하기\n",
    "- 로드한 데이터의 결측치를 보고 요약, 집계하기 - info, isnull, value_counts\n",
    "- groupBy와 pivot_table로 다양한 집계 연산 하기\n",
    "----"
   ]
  }
 ],
 "metadata": {
  "kernelspec": {
   "display_name": "Python 3",
   "language": "python",
   "name": "python3"
  },
  "language_info": {
   "codemirror_mode": {
    "name": "ipython",
    "version": 3
   },
   "file_extension": ".py",
   "mimetype": "text/x-python",
   "name": "python",
   "nbconvert_exporter": "python",
   "pygments_lexer": "ipython3",
   "version": "3.7.6"
  }
 },
 "nbformat": 4,
 "nbformat_minor": 4
}
